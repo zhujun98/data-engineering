{
 "cells": [
  {
   "cell_type": "markdown",
   "metadata": {},
   "source": [
    "# Data Modeling with Apache Cassandra\n",
    "\n",
    "Jun Zhu"
   ]
  },
  {
   "cell_type": "code",
   "execution_count": 1,
   "metadata": {},
   "outputs": [
    {
     "data": {
      "text/plain": [
       "'3.24.0'"
      ]
     },
     "execution_count": 1,
     "metadata": {},
     "output_type": "execute_result"
    }
   ],
   "source": [
    "import pandas as pd\n",
    "import cassandra\n",
    "from cassandra.cluster import Cluster\n",
    "import pathlib\n",
    "\n",
    "cassandra.__version__"
   ]
  },
  {
   "cell_type": "markdown",
   "metadata": {},
   "source": [
    "#### Creating list of filepaths to process original event csv data files"
   ]
  },
  {
   "cell_type": "code",
   "execution_count": 2,
   "metadata": {},
   "outputs": [],
   "source": [
    "data_dir = pathlib.Path(\"./event_data\")\n",
    "\n",
    "file_paths = []\n",
    "for file in data_dir.iterdir():\n",
    "    file_paths.append(file)\n",
    "\n",
    "file_paths = sorted(file_paths)\n",
    "\n",
    "assert 30 == len(file_paths)"
   ]
  },
  {
   "cell_type": "markdown",
   "metadata": {},
   "source": [
    "#### Processing the files to create the dataframe that will be used for Apache Casssandra tables"
   ]
  },
  {
   "cell_type": "code",
   "execution_count": 3,
   "metadata": {},
   "outputs": [],
   "source": [
    "dataframes = []\n",
    "\n",
    "for fp in file_paths:\n",
    "    dataframes.append(pd.read_csv(fp))\n",
    "\n",
    "df = pd.concat(dataframes)\n",
    "\n",
    "assert 8056 == len(df)"
   ]
  },
  {
   "cell_type": "code",
   "execution_count": 4,
   "metadata": {},
   "outputs": [],
   "source": [
    "df.dropna(inplace=True)\n",
    "\n",
    "assert 6820 == len(df)"
   ]
  },
  {
   "cell_type": "code",
   "execution_count": 5,
   "metadata": {},
   "outputs": [
    {
     "data": {
      "text/html": [
       "<div>\n",
       "<style scoped>\n",
       "    .dataframe tbody tr th:only-of-type {\n",
       "        vertical-align: middle;\n",
       "    }\n",
       "\n",
       "    .dataframe tbody tr th {\n",
       "        vertical-align: top;\n",
       "    }\n",
       "\n",
       "    .dataframe thead th {\n",
       "        text-align: right;\n",
       "    }\n",
       "</style>\n",
       "<table border=\"1\" class=\"dataframe\">\n",
       "  <thead>\n",
       "    <tr style=\"text-align: right;\">\n",
       "      <th></th>\n",
       "      <th>artist</th>\n",
       "      <th>firstName</th>\n",
       "      <th>gender</th>\n",
       "      <th>itemInSession</th>\n",
       "      <th>lastName</th>\n",
       "      <th>length</th>\n",
       "      <th>level</th>\n",
       "      <th>location</th>\n",
       "      <th>sessionId</th>\n",
       "      <th>song</th>\n",
       "      <th>userId</th>\n",
       "    </tr>\n",
       "  </thead>\n",
       "  <tbody>\n",
       "    <tr>\n",
       "      <th>2</th>\n",
       "      <td>Des'ree</td>\n",
       "      <td>Kaylee</td>\n",
       "      <td>F</td>\n",
       "      <td>1</td>\n",
       "      <td>Summers</td>\n",
       "      <td>246.30812</td>\n",
       "      <td>free</td>\n",
       "      <td>Phoenix-Mesa-Scottsdale, AZ</td>\n",
       "      <td>139</td>\n",
       "      <td>You Gotta Be</td>\n",
       "      <td>8</td>\n",
       "    </tr>\n",
       "    <tr>\n",
       "      <th>4</th>\n",
       "      <td>Mr Oizo</td>\n",
       "      <td>Kaylee</td>\n",
       "      <td>F</td>\n",
       "      <td>3</td>\n",
       "      <td>Summers</td>\n",
       "      <td>144.03873</td>\n",
       "      <td>free</td>\n",
       "      <td>Phoenix-Mesa-Scottsdale, AZ</td>\n",
       "      <td>139</td>\n",
       "      <td>Flat 55</td>\n",
       "      <td>8</td>\n",
       "    </tr>\n",
       "    <tr>\n",
       "      <th>5</th>\n",
       "      <td>Tamba Trio</td>\n",
       "      <td>Kaylee</td>\n",
       "      <td>F</td>\n",
       "      <td>4</td>\n",
       "      <td>Summers</td>\n",
       "      <td>177.18812</td>\n",
       "      <td>free</td>\n",
       "      <td>Phoenix-Mesa-Scottsdale, AZ</td>\n",
       "      <td>139</td>\n",
       "      <td>Quem Quiser Encontrar O Amor</td>\n",
       "      <td>8</td>\n",
       "    </tr>\n",
       "    <tr>\n",
       "      <th>6</th>\n",
       "      <td>The Mars Volta</td>\n",
       "      <td>Kaylee</td>\n",
       "      <td>F</td>\n",
       "      <td>5</td>\n",
       "      <td>Summers</td>\n",
       "      <td>380.42077</td>\n",
       "      <td>free</td>\n",
       "      <td>Phoenix-Mesa-Scottsdale, AZ</td>\n",
       "      <td>139</td>\n",
       "      <td>Eriatarka</td>\n",
       "      <td>8</td>\n",
       "    </tr>\n",
       "    <tr>\n",
       "      <th>7</th>\n",
       "      <td>Infected Mushroom</td>\n",
       "      <td>Kaylee</td>\n",
       "      <td>F</td>\n",
       "      <td>6</td>\n",
       "      <td>Summers</td>\n",
       "      <td>440.26730</td>\n",
       "      <td>free</td>\n",
       "      <td>Phoenix-Mesa-Scottsdale, AZ</td>\n",
       "      <td>139</td>\n",
       "      <td>Becoming Insane</td>\n",
       "      <td>8</td>\n",
       "    </tr>\n",
       "    <tr>\n",
       "      <th>...</th>\n",
       "      <td>...</td>\n",
       "      <td>...</td>\n",
       "      <td>...</td>\n",
       "      <td>...</td>\n",
       "      <td>...</td>\n",
       "      <td>...</td>\n",
       "      <td>...</td>\n",
       "      <td>...</td>\n",
       "      <td>...</td>\n",
       "      <td>...</td>\n",
       "      <td>...</td>\n",
       "    </tr>\n",
       "    <tr>\n",
       "      <th>382</th>\n",
       "      <td>Foo Fighters</td>\n",
       "      <td>Rylan</td>\n",
       "      <td>M</td>\n",
       "      <td>57</td>\n",
       "      <td>George</td>\n",
       "      <td>271.38567</td>\n",
       "      <td>paid</td>\n",
       "      <td>Birmingham-Hoover, AL</td>\n",
       "      <td>1076</td>\n",
       "      <td>The Pretender</td>\n",
       "      <td>16</td>\n",
       "    </tr>\n",
       "    <tr>\n",
       "      <th>383</th>\n",
       "      <td>Timbiriche</td>\n",
       "      <td>Rylan</td>\n",
       "      <td>M</td>\n",
       "      <td>58</td>\n",
       "      <td>George</td>\n",
       "      <td>202.60526</td>\n",
       "      <td>paid</td>\n",
       "      <td>Birmingham-Hoover, AL</td>\n",
       "      <td>1076</td>\n",
       "      <td>Besos De Ceniza</td>\n",
       "      <td>16</td>\n",
       "    </tr>\n",
       "    <tr>\n",
       "      <th>384</th>\n",
       "      <td>A Perfect Circle</td>\n",
       "      <td>Rylan</td>\n",
       "      <td>M</td>\n",
       "      <td>59</td>\n",
       "      <td>George</td>\n",
       "      <td>206.05342</td>\n",
       "      <td>paid</td>\n",
       "      <td>Birmingham-Hoover, AL</td>\n",
       "      <td>1076</td>\n",
       "      <td>Rose</td>\n",
       "      <td>16</td>\n",
       "    </tr>\n",
       "    <tr>\n",
       "      <th>385</th>\n",
       "      <td>Anberlin</td>\n",
       "      <td>Rylan</td>\n",
       "      <td>M</td>\n",
       "      <td>60</td>\n",
       "      <td>George</td>\n",
       "      <td>348.68200</td>\n",
       "      <td>paid</td>\n",
       "      <td>Birmingham-Hoover, AL</td>\n",
       "      <td>1076</td>\n",
       "      <td>The Haunting</td>\n",
       "      <td>16</td>\n",
       "    </tr>\n",
       "    <tr>\n",
       "      <th>387</th>\n",
       "      <td>Deas Vail</td>\n",
       "      <td>Elijah</td>\n",
       "      <td>M</td>\n",
       "      <td>0</td>\n",
       "      <td>Davis</td>\n",
       "      <td>237.68771</td>\n",
       "      <td>free</td>\n",
       "      <td>Detroit-Warren-Dearborn, MI</td>\n",
       "      <td>985</td>\n",
       "      <td>Anything You Say (Unreleased Version)</td>\n",
       "      <td>5</td>\n",
       "    </tr>\n",
       "  </tbody>\n",
       "</table>\n",
       "<p>6820 rows × 11 columns</p>\n",
       "</div>"
      ],
      "text/plain": [
       "                artist firstName gender  itemInSession lastName     length  \\\n",
       "2              Des'ree    Kaylee      F              1  Summers  246.30812   \n",
       "4              Mr Oizo    Kaylee      F              3  Summers  144.03873   \n",
       "5           Tamba Trio    Kaylee      F              4  Summers  177.18812   \n",
       "6       The Mars Volta    Kaylee      F              5  Summers  380.42077   \n",
       "7    Infected Mushroom    Kaylee      F              6  Summers  440.26730   \n",
       "..                 ...       ...    ...            ...      ...        ...   \n",
       "382       Foo Fighters     Rylan      M             57   George  271.38567   \n",
       "383         Timbiriche     Rylan      M             58   George  202.60526   \n",
       "384   A Perfect Circle     Rylan      M             59   George  206.05342   \n",
       "385           Anberlin     Rylan      M             60   George  348.68200   \n",
       "387          Deas Vail    Elijah      M              0    Davis  237.68771   \n",
       "\n",
       "    level                     location  sessionId  \\\n",
       "2    free  Phoenix-Mesa-Scottsdale, AZ        139   \n",
       "4    free  Phoenix-Mesa-Scottsdale, AZ        139   \n",
       "5    free  Phoenix-Mesa-Scottsdale, AZ        139   \n",
       "6    free  Phoenix-Mesa-Scottsdale, AZ        139   \n",
       "7    free  Phoenix-Mesa-Scottsdale, AZ        139   \n",
       "..    ...                          ...        ...   \n",
       "382  paid        Birmingham-Hoover, AL       1076   \n",
       "383  paid        Birmingham-Hoover, AL       1076   \n",
       "384  paid        Birmingham-Hoover, AL       1076   \n",
       "385  paid        Birmingham-Hoover, AL       1076   \n",
       "387  free  Detroit-Warren-Dearborn, MI        985   \n",
       "\n",
       "                                      song  userId  \n",
       "2                             You Gotta Be       8  \n",
       "4                                  Flat 55       8  \n",
       "5             Quem Quiser Encontrar O Amor       8  \n",
       "6                                Eriatarka       8  \n",
       "7                          Becoming Insane       8  \n",
       "..                                     ...     ...  \n",
       "382                          The Pretender      16  \n",
       "383                        Besos De Ceniza      16  \n",
       "384                                   Rose      16  \n",
       "385                           The Haunting      16  \n",
       "387  Anything You Say (Unreleased Version)       5  \n",
       "\n",
       "[6820 rows x 11 columns]"
      ]
     },
     "execution_count": 5,
     "metadata": {},
     "output_type": "execute_result"
    }
   ],
   "source": [
    "df.drop(columns=['auth', 'method', 'page', 'registration', 'status', 'ts'], inplace=True)\n",
    "\n",
    "assert 11 == len(df.columns)\n",
    "\n",
    "df['userId'] = df['userId'].apply(int)\n",
    "\n",
    "df.to_csv('event_datafile_new.csv')\n",
    "\n",
    "df"
   ]
  },
  {
   "cell_type": "markdown",
   "metadata": {},
   "source": [
    "#### Connect to the database"
   ]
  },
  {
   "cell_type": "code",
   "execution_count": 6,
   "metadata": {},
   "outputs": [],
   "source": [
    "cluster = Cluster(['127.0.0.1'])\n",
    "\n",
    "session = cluster.connect()"
   ]
  },
  {
   "cell_type": "markdown",
   "metadata": {},
   "source": [
    "#### Create a new keyspace"
   ]
  },
  {
   "cell_type": "code",
   "execution_count": 7,
   "metadata": {},
   "outputs": [
    {
     "data": {
      "text/plain": [
       "<cassandra.cluster.ResultSet at 0x7f1abf4a7ad0>"
      ]
     },
     "execution_count": 7,
     "metadata": {},
     "output_type": "execute_result"
    }
   ],
   "source": [
    "# Note: the keyspace name will be automatically converted to lowercase letters.\n",
    "session.execute(\"CREATE KEYSPACE IF NOT EXISTS sparkify \\\n",
    "                 WITH REPLICATION = {'class': 'SimpleStrategy', 'replication_factor': 1}\")"
   ]
  },
  {
   "cell_type": "code",
   "execution_count": 8,
   "metadata": {},
   "outputs": [],
   "source": [
    "session.set_keyspace('sparkify')"
   ]
  },
  {
   "cell_type": "markdown",
   "metadata": {},
   "source": [
    "Now we need to create tables to run the following queries. **Remember, with Apache Cassandra you model the database tables on the queries you want to run.**"
   ]
  },
  {
   "cell_type": "markdown",
   "metadata": {},
   "source": [
    "#### Query 1\n",
    "\n",
    "Give me the artist, song title and song's length in the music app history that was heard during sessionId = 338, and itemInSession = 4."
   ]
  },
  {
   "cell_type": "code",
   "execution_count": 9,
   "metadata": {},
   "outputs": [
    {
     "data": {
      "text/plain": [
       "<cassandra.cluster.ResultSet at 0x7f1abf432b10>"
      ]
     },
     "execution_count": 9,
     "metadata": {},
     "output_type": "execute_result"
    }
   ],
   "source": [
    "# Create the table.\n",
    "query = \"CREATE TABLE IF NOT EXISTS session_song \"\n",
    "query += \"(session_id int, item_in_session int, artist_name text, song_title text, song_length float, \\\n",
    "          PRIMARY KEY (session_id, item_in_session))\"\n",
    "session.execute(query)"
   ]
  },
  {
   "cell_type": "code",
   "execution_count": 10,
   "metadata": {},
   "outputs": [],
   "source": [
    "# Insert data.\n",
    "for _, row in df.iterrows():\n",
    "    query = \"INSERT into session_song (session_id, item_in_session, artist_name, song_title, song_length)\"\n",
    "    query = query + \"VALUES (%s, %s, %s, %s, %s)\"\n",
    "    session.execute(query, (row['sessionId'], row['itemInSession'], row['artist'], row['song'], row['length']))"
   ]
  },
  {
   "cell_type": "code",
   "execution_count": 11,
   "metadata": {
    "scrolled": true
   },
   "outputs": [
    {
     "name": "stdout",
     "output_type": "stream",
     "text": [
      "Faithless Music Matters (Mark Knight Dub) 495.30731201171875\n"
     ]
    }
   ],
   "source": [
    "# Check result.\n",
    "query = \"SELECT * FROM session_song WHERE session_id = 338 AND item_in_session = 4\"\n",
    "\n",
    "rows = session.execute(query)\n",
    "for row in rows:\n",
    "    print(row.artist_name, row.song_title, row.song_length)"
   ]
  },
  {
   "cell_type": "markdown",
   "metadata": {},
   "source": [
    "#### Query 2\n",
    "\n",
    "Give me only the following: name of artist, song (sorted by itemInSession) and user (first and last name) for userid = 10, sessionid = 182.\n",
    "\n",
    "It means that `itemInSession` should be the first clustering key."
   ]
  },
  {
   "cell_type": "code",
   "execution_count": 12,
   "metadata": {},
   "outputs": [
    {
     "data": {
      "text/plain": [
       "<cassandra.cluster.ResultSet at 0x7f1abf432c90>"
      ]
     },
     "execution_count": 12,
     "metadata": {},
     "output_type": "execute_result"
    }
   ],
   "source": [
    "# Create the table.\n",
    "query = \"CREATE TABLE IF NOT EXISTS session_user_song\"\n",
    "query += \"(session_id int, user_id int, item_in_session int, artist_name text, song_title text, \\\n",
    "          user_first_name text, user_last_name text, \\\n",
    "          PRIMARY KEY ((session_id, user_id), item_in_session))\"\n",
    "session.execute(query)"
   ]
  },
  {
   "cell_type": "code",
   "execution_count": 13,
   "metadata": {},
   "outputs": [],
   "source": [
    "# Insert the data.\n",
    "for _, row in df.iterrows():\n",
    "    query = \"INSERT into session_user_song (session_id, item_in_session, artist_name, song_title, \\\n",
    "             user_first_name, user_last_name, user_id)\"\n",
    "    query += \"VALUES (%s, %s, %s, %s, %s, %s, %s)\"\n",
    "    session.execute(query, (row['sessionId'], row['itemInSession'], row['artist'], row['song'], \\\n",
    "                            row['firstName'], row['lastName'], row['userId']))"
   ]
  },
  {
   "cell_type": "code",
   "execution_count": 14,
   "metadata": {},
   "outputs": [
    {
     "name": "stdout",
     "output_type": "stream",
     "text": [
      "0 Down To The Bone Keep On Keepin' On Sylvie Cruz\n",
      "1 Three Drives Greece 2000 Sylvie Cruz\n",
      "2 Sebastien Tellier Kilometer Sylvie Cruz\n",
      "3 Lonnie Gordon Catch You Baby (Steve Pitron & Max Sanna Radio Edit) Sylvie Cruz\n"
     ]
    }
   ],
   "source": [
    "# Check result.\n",
    "query = \"SELECT * FROM session_user_song WHERE session_id = 182 AND user_id = 10\"\n",
    "\n",
    "rows = session.execute(query)\n",
    "for row in rows:\n",
    "    print(row.item_in_session, row.artist_name, row.song_title, row.user_first_name, row.user_last_name)"
   ]
  },
  {
   "cell_type": "markdown",
   "metadata": {},
   "source": [
    "#### Query 3\n",
    "\n",
    "Give me every user name (first and last) in my music app history who listened to the song 'All Hands Against His Own'."
   ]
  },
  {
   "cell_type": "code",
   "execution_count": 15,
   "metadata": {},
   "outputs": [
    {
     "data": {
      "text/plain": [
       "<cassandra.cluster.ResultSet at 0x7f1ac9244110>"
      ]
     },
     "execution_count": 15,
     "metadata": {},
     "output_type": "execute_result"
    }
   ],
   "source": [
    "# Create the table.\n",
    "query = \"CREATE TABLE IF NOT EXISTS user_song \"\n",
    "query += \"(song_title text, user_first_name text, user_last_name text, user_id int, \\\n",
    "          PRIMARY KEY (song_title, user_id))\"\n",
    "session.execute(query)"
   ]
  },
  {
   "cell_type": "code",
   "execution_count": 16,
   "metadata": {},
   "outputs": [],
   "source": [
    "# Insert the data.\n",
    "for _, row in df.iterrows():\n",
    "    query = \"INSERT into user_song (song_title, user_first_name, user_last_name, user_id)\"\n",
    "    query += \"VALUES (%s, %s, %s, %s)\"\n",
    "    session.execute(query, (row['song'], row['firstName'], row['lastName'], row['userId']))"
   ]
  },
  {
   "cell_type": "code",
   "execution_count": 17,
   "metadata": {},
   "outputs": [
    {
     "name": "stdout",
     "output_type": "stream",
     "text": [
      "Jacqueline Lynch\n",
      "Tegan Levine\n",
      "Sara Johnson\n"
     ]
    }
   ],
   "source": [
    "# Check result.\n",
    "query = \"SELECT * FROM user_song WHERE song_title = 'All Hands Against His Own'\"\n",
    "\n",
    "rows = session.execute(query)\n",
    "for row in rows:\n",
    "    print(row.user_first_name, row.user_last_name)"
   ]
  },
  {
   "cell_type": "markdown",
   "metadata": {},
   "source": [
    "#### Drop the tables before closing out the sessions"
   ]
  },
  {
   "cell_type": "code",
   "execution_count": 18,
   "metadata": {},
   "outputs": [
    {
     "data": {
      "text/plain": [
       "<cassandra.cluster.ResultSet at 0x7f1abf4bb910>"
      ]
     },
     "execution_count": 18,
     "metadata": {},
     "output_type": "execute_result"
    }
   ],
   "source": [
    "session.execute(\"DROP TABLE session_song\")\n",
    "session.execute(\"DROP TABLE session_user_song\")\n",
    "session.execute(\"DROP TABLE user_song\")"
   ]
  },
  {
   "cell_type": "markdown",
   "metadata": {},
   "source": [
    "#### Close the session and cluster connection¶"
   ]
  },
  {
   "cell_type": "code",
   "execution_count": 19,
   "metadata": {},
   "outputs": [],
   "source": [
    "session.shutdown()\n",
    "cluster.shutdown()"
   ]
  }
 ],
 "metadata": {
  "kernelspec": {
   "display_name": "cassandra",
   "language": "python",
   "name": "cassandra"
  },
  "language_info": {
   "codemirror_mode": {
    "name": "ipython",
    "version": 3
   },
   "file_extension": ".py",
   "mimetype": "text/x-python",
   "name": "python",
   "nbconvert_exporter": "python",
   "pygments_lexer": "ipython3",
   "version": "3.7.10"
  }
 },
 "nbformat": 4,
 "nbformat_minor": 2
}
